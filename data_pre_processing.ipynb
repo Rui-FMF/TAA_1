{
 "cells": [
  {
   "cell_type": "code",
   "execution_count": 1,
   "metadata": {},
   "outputs": [],
   "source": [
    "import pandas as pd"
   ]
  },
  {
   "cell_type": "code",
   "execution_count": 72,
   "metadata": {},
   "outputs": [
    {
     "name": "stdout",
     "output_type": "stream",
     "text": [
      "{'Derby': 0, 'Bradford': 0, 'Middlesbrough': 0, 'Watford': 0, 'Blackburn': 0, 'Man City': 0, 'Arsenal': 0, 'Bolton': 0, 'Ipswich': 0, 'Coventry': 0, 'Wigan': 0, 'Portsmouth': 0, 'Liverpool': 0, 'Hull': 0, 'Birmingham': 0, 'Aston Villa': 0, 'Stoke': 0, 'Man United': 0, 'Everton': 0, 'Reading': 0, 'Middlesboro': 0, 'West Brom': 0, 'Tottenham': 0, 'Blackpool': 0, 'QPR': 0, 'Burnley': 0, 'Leeds': 0, 'Fulham': 0, 'Wolves': 0, 'Swansea': 0, 'West Ham': 0, 'Sunderland': 0, 'Cardiff': 0, 'Southampton': 0, 'Sheffield United': 0, 'Norwich': 0, 'Charlton': 0, 'Bournemouth': 0, 'Newcastle': 0, 'Leicester': 0, 'Chelsea': 0, 'Crystal Palace': 0}\n"
     ]
    }
   ],
   "source": [
    "\n",
    "\n",
    "data = pd.read_csv('final_dataset.csv')\n",
    "\n",
    "df = pd.DataFrame(data, columns=['HomeTeam','AwayTeam','HTGS', 'ATGS', 'HTGC', \n",
    "                                 'FTHG','FTAG', 'FTR','HomeTeamLP', 'AwayTeamLP',\n",
    "                                  'HTFormPts','ATFormPts', 'HTGD', 'ATGD', 'MW', 'HTP', 'ATP'])\n",
    "\n",
    "#print(df)\n",
    "\n",
    "def update_ftr(fthg, ftag):\n",
    "    # corrigir o resultado (W/L/D)\n",
    "    if fthg < ftag:\n",
    "        return 'A'\n",
    "    \n",
    "    elif fthg == ftag:\n",
    "        return 'D'\n",
    "    else:\n",
    "        return 'H'\n",
    "\n",
    "df['FTR'] = df.apply(lambda x : update_ftr(x.FTHG, x.FTAG), axis=1)\n",
    "\n",
    "#print(df)\n",
    "\n",
    "diff_teams = set(df['HomeTeam'].values) # todas as equipas\n",
    "\n",
    "goals = dict((team, 0) for team in diff_teams) # differeça de golos de cada equipa\n",
    "points = dict((team, 0) for team in diff_teams) # pontos de cada equipa\n",
    "\n",
    "\n",
    "\n",
    "print(goals)\n",
    "\n",
    "\n",
    "def update_goals_points(s, goals, points ):\n",
    "    \n",
    "    # jogo de pre-epoca\n",
    "    # campeonato apenas começa na week 2\n",
    "    HomeTeam = s['HomeTeam']\n",
    "    AwayTeam = s['AwayTeam']\n",
    "    \n",
    "    if s['MW'] == 1.0:\n",
    "        # reset dos valores\n",
    "        \n",
    "        #goals = dict((team, 0) for team in diff_teams)\n",
    "        #points = dict((team, 0) for team in diff_teams)\n",
    "        \n",
    "        goals[HomeTeam] = 0\n",
    "        goals[AwayTeam] = 0\n",
    "        points[HomeTeam] = 0\n",
    "        points[AwayTeam] = 0\n",
    "        \n",
    "\n",
    "    else:\n",
    "        diff = s['FTHG'] - s['FTAG']\n",
    "        \n",
    "        goals[HomeTeam]+= diff\n",
    "        goals[AwayTeam]+= -diff\n",
    "        \n",
    "        if diff < 0: # equipa visitante ganhou\n",
    "            points[AwayTeam]+= 3\n",
    "            \n",
    "            \n",
    "    \n",
    "        elif diff == 0: # empate\n",
    "            \n",
    "            points[HomeTeam]+= 1\n",
    "            points[AwayTeam]+= 1\n",
    "            \n",
    "            \n",
    "        \n",
    "        else: # equipa da casa ganhou\n",
    "            \n",
    "            points[HomeTeam]+= 3\n",
    "            \n",
    "    return pd.Series([goals[HomeTeam], goals[AwayTeam], points[HomeTeam], points[AwayTeam]],index=['HTGD','ATGD','HTP', 'ATP'])\n",
    "    \n",
    "   \n",
    "df[['HTGD','ATGD','HTP', 'ATP']] = df.apply(lambda x : update_goals_points(x, goals, points), axis=1)\n",
    "\n",
    "\n",
    "# escrever em csv\n",
    "df.to_csv('premier_train_dataset.csv')\n",
    "        "
   ]
  },
  {
   "cell_type": "code",
   "execution_count": null,
   "metadata": {},
   "outputs": [],
   "source": []
  }
 ],
 "metadata": {
  "kernelspec": {
   "display_name": "Python 3",
   "language": "python",
   "name": "python3"
  },
  "language_info": {
   "codemirror_mode": {
    "name": "ipython",
    "version": 3
   },
   "file_extension": ".py",
   "mimetype": "text/x-python",
   "name": "python",
   "nbconvert_exporter": "python",
   "pygments_lexer": "ipython3",
   "version": "3.8.5"
  }
 },
 "nbformat": 4,
 "nbformat_minor": 4
}
