{
 "cells": [
  {
   "cell_type": "markdown",
   "metadata": {},
   "source": [
    "# Importing Dependencies"
   ]
  },
  {
   "cell_type": "code",
   "execution_count": 1,
   "metadata": {},
   "outputs": [],
   "source": [
    "#import libraries\n",
    "import time\n",
    "import numpy as np\n",
    "import pandas as pd\n",
    "import matplotlib.pyplot as plt\n",
    "from sklearn.svm import SVC\n",
    "from sklearn.linear_model import LogisticRegression\n",
    "import seaborn as sb\n",
    "from sklearn.preprocessing import scale\n",
    "from sklearn.model_selection import train_test_split\n",
    "from sklearn.metrics import confusion_matrix, ConfusionMatrixDisplay, f1_score, classification_report\n",
    "from sklearn.model_selection import GridSearchCV, cross_val_score, cross_val_predict, cross_validate, learning_curve\n",
    "from sklearn.neural_network import MLPClassifier\n",
    "from sklearn.model_selection import KFold\n",
    "from sklearn.metrics import accuracy_score\n",
    "from sklearn.ensemble import VotingClassifier, StackingClassifier, BaggingClassifier\n",
    "import xgboost as xgb"
   ]
  },
  {
   "cell_type": "markdown",
   "metadata": {},
   "source": [
    "# Data Description and Exploration"
   ]
  },
  {
   "cell_type": "code",
   "execution_count": 3,
   "metadata": {},
   "outputs": [
    {
     "data": {
      "text/html": [
       "<div>\n",
       "<style scoped>\n",
       "    .dataframe tbody tr th:only-of-type {\n",
       "        vertical-align: middle;\n",
       "    }\n",
       "\n",
       "    .dataframe tbody tr th {\n",
       "        vertical-align: top;\n",
       "    }\n",
       "\n",
       "    .dataframe thead th {\n",
       "        text-align: right;\n",
       "    }\n",
       "</style>\n",
       "<table border=\"1\" class=\"dataframe\">\n",
       "  <thead>\n",
       "    <tr style=\"text-align: right;\">\n",
       "      <th></th>\n",
       "      <th>HomeTeam</th>\n",
       "      <th>AwayTeam</th>\n",
       "      <th>HTGS</th>\n",
       "      <th>ATGS</th>\n",
       "      <th>HTGC</th>\n",
       "      <th>ATGC</th>\n",
       "      <th>FTHG</th>\n",
       "      <th>FTAG</th>\n",
       "      <th>FTR</th>\n",
       "      <th>HomeTeamLP</th>\n",
       "      <th>AwayTeamLP</th>\n",
       "      <th>HTFormPts</th>\n",
       "      <th>ATFormPts</th>\n",
       "      <th>HTGD</th>\n",
       "      <th>ATGD</th>\n",
       "      <th>MW</th>\n",
       "      <th>HTP</th>\n",
       "      <th>ATP</th>\n",
       "    </tr>\n",
       "  </thead>\n",
       "  <tbody>\n",
       "    <tr>\n",
       "      <th>40</th>\n",
       "      <td>Coventry</td>\n",
       "      <td>Leeds</td>\n",
       "      <td>5</td>\n",
       "      <td>5</td>\n",
       "      <td>7</td>\n",
       "      <td>3</td>\n",
       "      <td>0</td>\n",
       "      <td>0</td>\n",
       "      <td>NH</td>\n",
       "      <td>14.0</td>\n",
       "      <td>3.0</td>\n",
       "      <td>6</td>\n",
       "      <td>7</td>\n",
       "      <td>0</td>\n",
       "      <td>0</td>\n",
       "      <td>5.0</td>\n",
       "      <td>7</td>\n",
       "      <td>4</td>\n",
       "    </tr>\n",
       "    <tr>\n",
       "      <th>41</th>\n",
       "      <td>Ipswich</td>\n",
       "      <td>Aston Villa</td>\n",
       "      <td>4</td>\n",
       "      <td>4</td>\n",
       "      <td>6</td>\n",
       "      <td>5</td>\n",
       "      <td>1</td>\n",
       "      <td>2</td>\n",
       "      <td>NH</td>\n",
       "      <td>18.0</td>\n",
       "      <td>6.0</td>\n",
       "      <td>4</td>\n",
       "      <td>5</td>\n",
       "      <td>-1</td>\n",
       "      <td>-1</td>\n",
       "      <td>5.0</td>\n",
       "      <td>4</td>\n",
       "      <td>4</td>\n",
       "    </tr>\n",
       "    <tr>\n",
       "      <th>42</th>\n",
       "      <td>Leicester</td>\n",
       "      <td>Southampton</td>\n",
       "      <td>3</td>\n",
       "      <td>7</td>\n",
       "      <td>1</td>\n",
       "      <td>8</td>\n",
       "      <td>1</td>\n",
       "      <td>0</td>\n",
       "      <td>H</td>\n",
       "      <td>8.0</td>\n",
       "      <td>15.0</td>\n",
       "      <td>8</td>\n",
       "      <td>3</td>\n",
       "      <td>3</td>\n",
       "      <td>-2</td>\n",
       "      <td>5.0</td>\n",
       "      <td>10</td>\n",
       "      <td>2</td>\n",
       "    </tr>\n",
       "    <tr>\n",
       "      <th>43</th>\n",
       "      <td>Liverpool</td>\n",
       "      <td>Man City</td>\n",
       "      <td>7</td>\n",
       "      <td>7</td>\n",
       "      <td>6</td>\n",
       "      <td>9</td>\n",
       "      <td>3</td>\n",
       "      <td>2</td>\n",
       "      <td>H</td>\n",
       "      <td>4.0</td>\n",
       "      <td>18.0</td>\n",
       "      <td>7</td>\n",
       "      <td>6</td>\n",
       "      <td>1</td>\n",
       "      <td>1</td>\n",
       "      <td>5.0</td>\n",
       "      <td>7</td>\n",
       "      <td>6</td>\n",
       "    </tr>\n",
       "    <tr>\n",
       "      <th>44</th>\n",
       "      <td>Man United</td>\n",
       "      <td>Sunderland</td>\n",
       "      <td>11</td>\n",
       "      <td>4</td>\n",
       "      <td>3</td>\n",
       "      <td>6</td>\n",
       "      <td>3</td>\n",
       "      <td>0</td>\n",
       "      <td>H</td>\n",
       "      <td>1.0</td>\n",
       "      <td>7.0</td>\n",
       "      <td>8</td>\n",
       "      <td>4</td>\n",
       "      <td>9</td>\n",
       "      <td>-6</td>\n",
       "      <td>5.0</td>\n",
       "      <td>8</td>\n",
       "      <td>1</td>\n",
       "    </tr>\n",
       "    <tr>\n",
       "      <th>45</th>\n",
       "      <td>Middlesbrough</td>\n",
       "      <td>Everton</td>\n",
       "      <td>8</td>\n",
       "      <td>7</td>\n",
       "      <td>7</td>\n",
       "      <td>7</td>\n",
       "      <td>1</td>\n",
       "      <td>2</td>\n",
       "      <td>NH</td>\n",
       "      <td>12.0</td>\n",
       "      <td>13.0</td>\n",
       "      <td>5</td>\n",
       "      <td>4</td>\n",
       "      <td>-2</td>\n",
       "      <td>3</td>\n",
       "      <td>5.0</td>\n",
       "      <td>2</td>\n",
       "      <td>7</td>\n",
       "    </tr>\n",
       "    <tr>\n",
       "      <th>46</th>\n",
       "      <td>Newcastle</td>\n",
       "      <td>Chelsea</td>\n",
       "      <td>7</td>\n",
       "      <td>7</td>\n",
       "      <td>4</td>\n",
       "      <td>7</td>\n",
       "      <td>0</td>\n",
       "      <td>0</td>\n",
       "      <td>NH</td>\n",
       "      <td>11.0</td>\n",
       "      <td>5.0</td>\n",
       "      <td>9</td>\n",
       "      <td>5</td>\n",
       "      <td>5</td>\n",
       "      <td>-2</td>\n",
       "      <td>5.0</td>\n",
       "      <td>10</td>\n",
       "      <td>3</td>\n",
       "    </tr>\n",
       "    <tr>\n",
       "      <th>47</th>\n",
       "      <td>Derby</td>\n",
       "      <td>Charlton</td>\n",
       "      <td>9</td>\n",
       "      <td>8</td>\n",
       "      <td>10</td>\n",
       "      <td>9</td>\n",
       "      <td>2</td>\n",
       "      <td>2</td>\n",
       "      <td>NH</td>\n",
       "      <td>16.0</td>\n",
       "      <td>18.0</td>\n",
       "      <td>3</td>\n",
       "      <td>4</td>\n",
       "      <td>-1</td>\n",
       "      <td>-5</td>\n",
       "      <td>5.0</td>\n",
       "      <td>3</td>\n",
       "      <td>2</td>\n",
       "    </tr>\n",
       "    <tr>\n",
       "      <th>48</th>\n",
       "      <td>Tottenham</td>\n",
       "      <td>West Ham</td>\n",
       "      <td>7</td>\n",
       "      <td>5</td>\n",
       "      <td>6</td>\n",
       "      <td>8</td>\n",
       "      <td>1</td>\n",
       "      <td>0</td>\n",
       "      <td>H</td>\n",
       "      <td>10.0</td>\n",
       "      <td>9.0</td>\n",
       "      <td>7</td>\n",
       "      <td>2</td>\n",
       "      <td>0</td>\n",
       "      <td>-2</td>\n",
       "      <td>5.0</td>\n",
       "      <td>7</td>\n",
       "      <td>2</td>\n",
       "    </tr>\n",
       "    <tr>\n",
       "      <th>49</th>\n",
       "      <td>Arsenal</td>\n",
       "      <td>Coventry</td>\n",
       "      <td>9</td>\n",
       "      <td>5</td>\n",
       "      <td>6</td>\n",
       "      <td>7</td>\n",
       "      <td>2</td>\n",
       "      <td>1</td>\n",
       "      <td>H</td>\n",
       "      <td>2.0</td>\n",
       "      <td>14.0</td>\n",
       "      <td>7</td>\n",
       "      <td>6</td>\n",
       "      <td>5</td>\n",
       "      <td>-1</td>\n",
       "      <td>5.0</td>\n",
       "      <td>11</td>\n",
       "      <td>7</td>\n",
       "    </tr>\n",
       "  </tbody>\n",
       "</table>\n",
       "</div>"
      ],
      "text/plain": [
       "         HomeTeam     AwayTeam  HTGS  ATGS  HTGC  ATGC  FTHG  FTAG FTR  \\\n",
       "40       Coventry        Leeds     5     5     7     3     0     0  NH   \n",
       "41        Ipswich  Aston Villa     4     4     6     5     1     2  NH   \n",
       "42      Leicester  Southampton     3     7     1     8     1     0   H   \n",
       "43      Liverpool     Man City     7     7     6     9     3     2   H   \n",
       "44     Man United   Sunderland    11     4     3     6     3     0   H   \n",
       "45  Middlesbrough      Everton     8     7     7     7     1     2  NH   \n",
       "46      Newcastle      Chelsea     7     7     4     7     0     0  NH   \n",
       "47          Derby     Charlton     9     8    10     9     2     2  NH   \n",
       "48      Tottenham     West Ham     7     5     6     8     1     0   H   \n",
       "49        Arsenal     Coventry     9     5     6     7     2     1   H   \n",
       "\n",
       "    HomeTeamLP  AwayTeamLP  HTFormPts  ATFormPts  HTGD  ATGD   MW  HTP  ATP  \n",
       "40        14.0         3.0          6          7     0     0  5.0    7    4  \n",
       "41        18.0         6.0          4          5    -1    -1  5.0    4    4  \n",
       "42         8.0        15.0          8          3     3    -2  5.0   10    2  \n",
       "43         4.0        18.0          7          6     1     1  5.0    7    6  \n",
       "44         1.0         7.0          8          4     9    -6  5.0    8    1  \n",
       "45        12.0        13.0          5          4    -2     3  5.0    2    7  \n",
       "46        11.0         5.0          9          5     5    -2  5.0   10    3  \n",
       "47        16.0        18.0          3          4    -1    -5  5.0    3    2  \n",
       "48        10.0         9.0          7          2     0    -2  5.0    7    2  \n",
       "49         2.0        14.0          7          6     5    -1  5.0   11    7  "
      ]
     },
     "execution_count": 3,
     "metadata": {},
     "output_type": "execute_result"
    }
   ],
   "source": [
    "# read data \n",
    "\n",
    "data = pd.read_csv('premier_train_dataset_2target.csv')\n",
    "data.drop(data.columns[0],axis=1,inplace=True)\n",
    "\n",
    "data[40:50]\n",
    "\n",
    "\n",
    "\n",
    "#HTGS       - Home Team Goals Scored (so far in the league)\n",
    "#ATGS       - Away Team Goals Scored (so far in the league)\n",
    "#HTGC       - Home Team Goals Conceded (so far in the league)\n",
    "#ATGC       - Away Team Goals Conceded (so far in the league)\n",
    "#FTHG       - Full Time Home Goals (in the match)\n",
    "#FTAG       - Full Time Away Goals (in the match)\n",
    "#FTR        - Full Time Result (H- Home Win; D - Draw; A - Away Win)\n",
    "#HomeTeamLP - Home Team League Position\n",
    "#AwayTeamLP - Away Team League Position\n",
    "#HTFormPts  - Home Team sum of points in the last 5 games\n",
    "#ATFormPts  - Away Team sum of points in the last 5 games\n",
    "#HTGD       - Home Team Goal Diference (so far in the league)\n",
    "#ATGD       - Away Team Goal Diference (so far in the league)\n",
    "#MW         - Match Week\n",
    "#HTGS       - Home Team Points (so far in the league)\n",
    "#ATGS       - Away Team Points (so far in the league)"
   ]
  },
  {
   "cell_type": "markdown",
   "metadata": {},
   "source": [
    "# Data Preparation"
   ]
  },
  {
   "cell_type": "code",
   "execution_count": 4,
   "metadata": {},
   "outputs": [
    {
     "data": {
      "text/html": [
       "<div>\n",
       "<style scoped>\n",
       "    .dataframe tbody tr th:only-of-type {\n",
       "        vertical-align: middle;\n",
       "    }\n",
       "\n",
       "    .dataframe tbody tr th {\n",
       "        vertical-align: top;\n",
       "    }\n",
       "\n",
       "    .dataframe thead th {\n",
       "        text-align: right;\n",
       "    }\n",
       "</style>\n",
       "<table border=\"1\" class=\"dataframe\">\n",
       "  <thead>\n",
       "    <tr style=\"text-align: right;\">\n",
       "      <th></th>\n",
       "      <th>HTGS</th>\n",
       "      <th>ATGS</th>\n",
       "      <th>HTGC</th>\n",
       "      <th>ATGC</th>\n",
       "      <th>HomeTeamLP</th>\n",
       "      <th>AwayTeamLP</th>\n",
       "      <th>HTFormPts</th>\n",
       "      <th>ATFormPts</th>\n",
       "      <th>HTGD</th>\n",
       "      <th>ATGD</th>\n",
       "      <th>HTP</th>\n",
       "      <th>ATP</th>\n",
       "    </tr>\n",
       "  </thead>\n",
       "  <tbody>\n",
       "    <tr>\n",
       "      <th>40</th>\n",
       "      <td>-1.139955</td>\n",
       "      <td>-1.147697</td>\n",
       "      <td>-1.067294</td>\n",
       "      <td>-1.309120</td>\n",
       "      <td>0.654571</td>\n",
       "      <td>-1.324887</td>\n",
       "      <td>-0.069788</td>\n",
       "      <td>0.168843</td>\n",
       "      <td>-0.019236</td>\n",
       "      <td>0.009430</td>\n",
       "      <td>-1.010783</td>\n",
       "      <td>-1.160716</td>\n",
       "    </tr>\n",
       "    <tr>\n",
       "      <th>41</th>\n",
       "      <td>-1.199019</td>\n",
       "      <td>-1.206839</td>\n",
       "      <td>-1.128677</td>\n",
       "      <td>-1.185829</td>\n",
       "      <td>1.374374</td>\n",
       "      <td>-0.785035</td>\n",
       "      <td>-0.632534</td>\n",
       "      <td>-0.399262</td>\n",
       "      <td>-0.089016</td>\n",
       "      <td>-0.060746</td>\n",
       "      <td>-1.171777</td>\n",
       "      <td>-1.160716</td>\n",
       "    </tr>\n",
       "    <tr>\n",
       "      <th>42</th>\n",
       "      <td>-1.258084</td>\n",
       "      <td>-1.029413</td>\n",
       "      <td>-1.435591</td>\n",
       "      <td>-1.000893</td>\n",
       "      <td>-0.425134</td>\n",
       "      <td>0.834522</td>\n",
       "      <td>0.492958</td>\n",
       "      <td>-0.967368</td>\n",
       "      <td>0.190106</td>\n",
       "      <td>-0.130921</td>\n",
       "      <td>-0.849789</td>\n",
       "      <td>-1.268505</td>\n",
       "    </tr>\n",
       "    <tr>\n",
       "      <th>43</th>\n",
       "      <td>-1.021826</td>\n",
       "      <td>-1.029413</td>\n",
       "      <td>-1.128677</td>\n",
       "      <td>-0.939248</td>\n",
       "      <td>-1.144937</td>\n",
       "      <td>1.374374</td>\n",
       "      <td>0.211585</td>\n",
       "      <td>-0.115210</td>\n",
       "      <td>0.050545</td>\n",
       "      <td>0.079605</td>\n",
       "      <td>-1.010783</td>\n",
       "      <td>-1.052927</td>\n",
       "    </tr>\n",
       "    <tr>\n",
       "      <th>44</th>\n",
       "      <td>-0.785568</td>\n",
       "      <td>-1.206839</td>\n",
       "      <td>-1.312825</td>\n",
       "      <td>-1.124184</td>\n",
       "      <td>-1.684789</td>\n",
       "      <td>-0.605084</td>\n",
       "      <td>0.492958</td>\n",
       "      <td>-0.683315</td>\n",
       "      <td>0.608789</td>\n",
       "      <td>-0.411623</td>\n",
       "      <td>-0.957119</td>\n",
       "      <td>-1.322399</td>\n",
       "    </tr>\n",
       "    <tr>\n",
       "      <th>45</th>\n",
       "      <td>-0.962761</td>\n",
       "      <td>-1.029413</td>\n",
       "      <td>-1.067294</td>\n",
       "      <td>-1.062539</td>\n",
       "      <td>0.294669</td>\n",
       "      <td>0.474620</td>\n",
       "      <td>-0.351161</td>\n",
       "      <td>-0.683315</td>\n",
       "      <td>-0.158797</td>\n",
       "      <td>0.219956</td>\n",
       "      <td>-1.279106</td>\n",
       "      <td>-0.999033</td>\n",
       "    </tr>\n",
       "    <tr>\n",
       "      <th>46</th>\n",
       "      <td>-1.021826</td>\n",
       "      <td>-1.029413</td>\n",
       "      <td>-1.251443</td>\n",
       "      <td>-1.062539</td>\n",
       "      <td>0.114719</td>\n",
       "      <td>-0.964986</td>\n",
       "      <td>0.774331</td>\n",
       "      <td>-0.399262</td>\n",
       "      <td>0.329667</td>\n",
       "      <td>-0.130921</td>\n",
       "      <td>-0.849789</td>\n",
       "      <td>-1.214610</td>\n",
       "    </tr>\n",
       "    <tr>\n",
       "      <th>47</th>\n",
       "      <td>-0.903697</td>\n",
       "      <td>-0.970271</td>\n",
       "      <td>-0.883146</td>\n",
       "      <td>-0.939248</td>\n",
       "      <td>1.014472</td>\n",
       "      <td>1.374374</td>\n",
       "      <td>-0.913907</td>\n",
       "      <td>-0.683315</td>\n",
       "      <td>-0.089016</td>\n",
       "      <td>-0.341447</td>\n",
       "      <td>-1.225442</td>\n",
       "      <td>-1.268505</td>\n",
       "    </tr>\n",
       "    <tr>\n",
       "      <th>48</th>\n",
       "      <td>-1.021826</td>\n",
       "      <td>-1.147697</td>\n",
       "      <td>-1.128677</td>\n",
       "      <td>-1.000893</td>\n",
       "      <td>-0.065232</td>\n",
       "      <td>-0.245183</td>\n",
       "      <td>0.211585</td>\n",
       "      <td>-1.251421</td>\n",
       "      <td>-0.019236</td>\n",
       "      <td>-0.130921</td>\n",
       "      <td>-1.010783</td>\n",
       "      <td>-1.268505</td>\n",
       "    </tr>\n",
       "    <tr>\n",
       "      <th>49</th>\n",
       "      <td>-0.903697</td>\n",
       "      <td>-1.147697</td>\n",
       "      <td>-1.128677</td>\n",
       "      <td>-1.062539</td>\n",
       "      <td>-1.504838</td>\n",
       "      <td>0.654571</td>\n",
       "      <td>0.211585</td>\n",
       "      <td>-0.115210</td>\n",
       "      <td>0.329667</td>\n",
       "      <td>-0.060746</td>\n",
       "      <td>-0.796125</td>\n",
       "      <td>-0.999033</td>\n",
       "    </tr>\n",
       "  </tbody>\n",
       "</table>\n",
       "</div>"
      ],
      "text/plain": [
       "        HTGS      ATGS      HTGC      ATGC  HomeTeamLP  AwayTeamLP  HTFormPts  \\\n",
       "40 -1.139955 -1.147697 -1.067294 -1.309120    0.654571   -1.324887  -0.069788   \n",
       "41 -1.199019 -1.206839 -1.128677 -1.185829    1.374374   -0.785035  -0.632534   \n",
       "42 -1.258084 -1.029413 -1.435591 -1.000893   -0.425134    0.834522   0.492958   \n",
       "43 -1.021826 -1.029413 -1.128677 -0.939248   -1.144937    1.374374   0.211585   \n",
       "44 -0.785568 -1.206839 -1.312825 -1.124184   -1.684789   -0.605084   0.492958   \n",
       "45 -0.962761 -1.029413 -1.067294 -1.062539    0.294669    0.474620  -0.351161   \n",
       "46 -1.021826 -1.029413 -1.251443 -1.062539    0.114719   -0.964986   0.774331   \n",
       "47 -0.903697 -0.970271 -0.883146 -0.939248    1.014472    1.374374  -0.913907   \n",
       "48 -1.021826 -1.147697 -1.128677 -1.000893   -0.065232   -0.245183   0.211585   \n",
       "49 -0.903697 -1.147697 -1.128677 -1.062539   -1.504838    0.654571   0.211585   \n",
       "\n",
       "    ATFormPts      HTGD      ATGD       HTP       ATP  \n",
       "40   0.168843 -0.019236  0.009430 -1.010783 -1.160716  \n",
       "41  -0.399262 -0.089016 -0.060746 -1.171777 -1.160716  \n",
       "42  -0.967368  0.190106 -0.130921 -0.849789 -1.268505  \n",
       "43  -0.115210  0.050545  0.079605 -1.010783 -1.052927  \n",
       "44  -0.683315  0.608789 -0.411623 -0.957119 -1.322399  \n",
       "45  -0.683315 -0.158797  0.219956 -1.279106 -0.999033  \n",
       "46  -0.399262  0.329667 -0.130921 -0.849789 -1.214610  \n",
       "47  -0.683315 -0.089016 -0.341447 -1.225442 -1.268505  \n",
       "48  -1.251421 -0.019236 -0.130921 -1.010783 -1.268505  \n",
       "49  -0.115210  0.329667 -0.060746 -0.796125 -0.999033  "
      ]
     },
     "execution_count": 4,
     "metadata": {},
     "output_type": "execute_result"
    }
   ],
   "source": [
    "# Separate into feature set and target variable\n",
    "feature_set = data.drop(['HomeTeam','AwayTeam','FTR', 'FTHG', 'FTAG','MW'],1)\n",
    "target_set = data['FTR']\n",
    "\n",
    "cols = [['HTGS','ATGS','HTGC','ATGC','HomeTeamLP','AwayTeamLP', 'HTFormPts','ATFormPts','HTGD','ATGD','HTP','ATP']]\n",
    "for col in cols:\n",
    "    feature_set[col] = scale(feature_set[col])\n",
    "  \n",
    "    \n",
    "feature_set[40:50]"
   ]
  },
  {
   "cell_type": "markdown",
   "metadata": {},
   "source": [
    "# Spliting into Train and Test sets"
   ]
  },
  {
   "cell_type": "code",
   "execution_count": 5,
   "metadata": {},
   "outputs": [],
   "source": [
    "X_train, X_test, y_train, y_test = train_test_split(feature_set, target_set, test_size = 0.25, random_state = 23, stratify = target_set)"
   ]
  },
  {
   "cell_type": "markdown",
   "metadata": {},
   "source": [
    "# Base Models"
   ]
  },
  {
   "cell_type": "code",
   "execution_count": 6,
   "metadata": {},
   "outputs": [],
   "source": [
    "def basic_train_and_test(clf, X_train, X_test, y_train, y_test):\n",
    "\n",
    "    clf.fit(X_train, y_train)\n",
    "\n",
    "    y_pred_train = clf.predict(X_train)\n",
    "    acc_train = sum(y_train == y_pred_train) / float(len(y_pred_train))\n",
    "    f1_train = f1_score(y_train, y_pred_train, average='weighted')\n",
    "\n",
    "    print(\"F1 score and accuracy score for training set: {:.4f} , {:.4f}.\".format(f1_train , acc_train))\n",
    "\n",
    "    y_pred_test = clf.predict(X_test)\n",
    "    acc_test = sum(y_test == y_pred_test) / float(len(y_pred_test))\n",
    "    f1_test = f1_score(y_test, y_pred_test, average='weighted')\n",
    "\n",
    "    print(\"F1 score and accuracy score for test set: {:.4f} , {:.4f}.\".format(f1_test , acc_test))\n",
    "    \n",
    "    return y_pred_test\n",
    "\n",
    "def get_confusion_matrix(clf, y_pred_test, y_test):\n",
    "    cm = confusion_matrix(y_test, y_pred_test, labels=clf.classes_)\n",
    "    return cm\n",
    "\n",
    "def display_cm(clf, cm):\n",
    "    disp = ConfusionMatrixDisplay(confusion_matrix=cm, display_labels=clf.classes_)\n",
    "    disp.plot()\n",
    "    \n"
   ]
  },
  {
   "cell_type": "markdown",
   "metadata": {},
   "source": [
    "## Logistic Regression"
   ]
  },
  {
   "cell_type": "code",
   "execution_count": 7,
   "metadata": {
    "scrolled": false
   },
   "outputs": [
    {
     "name": "stdout",
     "output_type": "stream",
     "text": [
      "F1 score and accuracy score for training set: 0.7839 , 0.7838.\n",
      "F1 score and accuracy score for test set: 0.7812 , 0.7809.\n"
     ]
    },
    {
     "data": {
      "image/png": "[encoded data removed]",
      "text/plain": [
       "<Figure size 432x288 with 2 Axes>"
      ]
     },
     "metadata": {
      "needs_background": "light"
     },
     "output_type": "display_data"
    }
   ],
   "source": [
    "# Logistic Regression\n",
    "clf_log = LogisticRegression(random_state=24, max_iter=1000, class_weight='balanced')\n",
    "y_pred_test = basic_train_and_test(clf_log, X_train, X_test, y_train, y_test)\n",
    "cm = get_confusion_matrix(clf_log, y_pred_test, y_test)\n",
    "display_cm(clf_log, cm)"
   ]
  },
  {
   "cell_type": "markdown",
   "metadata": {},
   "source": [
    "## SVM"
   ]
  },
  {
   "cell_type": "code",
   "execution_count": 8,
   "metadata": {
    "scrolled": false
   },
   "outputs": [
    {
     "name": "stdout",
     "output_type": "stream",
     "text": [
      "F1 score and accuracy score for training set: 0.7817 , 0.7825.\n",
      "F1 score and accuracy score for test set: 0.7789 , 0.7789.\n"
     ]
    },
    {
     "data": {
      "image/png": "[encoded data removed]",
      "text/plain": [
       "<Figure size 432x288 with 2 Axes>"
      ]
     },
     "metadata": {
      "needs_background": "light"
     },
     "output_type": "display_data"
    }
   ],
   "source": [
    "# SVM\n",
    "clf_svm = SVC(kernel=\"rbf\")\n",
    "y_pred_test = basic_train_and_test(clf_svm, X_train, X_test, y_train, y_test)\n",
    "cm = get_confusion_matrix(clf_svm, y_pred_test, y_test)\n",
    "display_cm(clf_svm, cm)"
   ]
  },
  {
   "cell_type": "markdown",
   "metadata": {},
   "source": [
    "## Neural Network"
   ]
  },
  {
   "cell_type": "code",
   "execution_count": 9,
   "metadata": {
    "scrolled": false
   },
   "outputs": [
    {
     "name": "stdout",
     "output_type": "stream",
     "text": [
      "F1 score and accuracy score for training set: 0.8093 , 0.8099.\n",
      "F1 score and accuracy score for test set: 0.7928 , 0.7928.\n"
     ]
    },
    {
     "data": {
      "image/png": "[encoded data removed]",
      "text/plain": [
       "<Figure size 432x288 with 2 Axes>"
      ]
     },
     "metadata": {
      "needs_background": "light"
     },
     "output_type": "display_data"
    }
   ],
   "source": [
    "# NN\n",
    "clf_nn = MLPClassifier(hidden_layer_sizes=(12,12), max_iter=750)\n",
    "y_pred_test = basic_train_and_test(clf_nn, X_train, X_test, y_train, y_test)\n",
    "cm = get_confusion_matrix(clf_nn, y_pred_test, y_test)\n",
    "display_cm(clf_nn, cm)"
   ]
  },
  {
   "cell_type": "markdown",
   "metadata": {},
   "source": [
    "## XGBoost"
   ]
  },
  {
   "cell_type": "code",
   "execution_count": 16,
   "metadata": {
    "scrolled": false
   },
   "outputs": [
    {
     "name": "stdout",
     "output_type": "stream",
     "text": [
      "F1 score and accuracy score for training set: 0.9868 , 0.9868.\n",
      "F1 score and accuracy score for test set: 0.7439 , 0.7441.\n"
     ]
    },
    {
     "data": {
      "image/png": "[encoded data removed]",
      "text/plain": [
       "<Figure size 432x288 with 2 Axes>"
      ]
     },
     "metadata": {
      "needs_background": "light"
     },
     "output_type": "display_data"
    }
   ],
   "source": [
    "# XGBoost\n",
    "xgb_clf = xgb.XGBClassifier(objective='binary:logistic', eval_metric='rmse')\n",
    "y_pred_test = basic_train_and_test(xgb_clf, X_train, X_test, y_train, y_test)\n",
    "cm = get_confusion_matrix(xgb_clf, y_pred_test, y_test)\n",
    "display_cm(xgb_clf, cm)\n",
    "#extreme overfitting"
   ]
  },
  {
   "cell_type": "markdown",
   "metadata": {},
   "source": [
    "# Hyper-Parameter Tuning"
   ]
  },
  {
   "cell_type": "code",
   "execution_count": 17,
   "metadata": {
    "scrolled": false
   },
   "outputs": [
    {
     "name": "stdout",
     "output_type": "stream",
     "text": [
      "# Tuning hyper-parameters for accuracy\n",
      "\n",
      "Best parameters set found on development set:\n",
      "\n",
      "{'C': 1, 'class_weight': 'balanced', 'max_iter': 200, 'penalty': 'l2', 'solver': 'lbfgs'}\n",
      "\n",
      "Detailed classification report:\n",
      "\n",
      "The model is trained on the full development set.\n",
      "The scores are computed on the full evaluation set.\n",
      "\n",
      "              precision    recall  f1-score   support\n",
      "\n",
      "           H       0.75      0.80      0.77       704\n",
      "          NH       0.81      0.77      0.79       816\n",
      "\n",
      "    accuracy                           0.78      1520\n",
      "   macro avg       0.78      0.78      0.78      1520\n",
      "weighted avg       0.78      0.78      0.78      1520\n",
      "\n",
      "\n",
      "# Tuning hyper-parameters for accuracy\n",
      "\n",
      "Best parameters set found on development set:\n",
      "\n",
      "{'C': 1000, 'gamma': 0.01, 'kernel': 'rbf'}\n",
      "\n",
      "Detailed classification report:\n",
      "\n",
      "The model is trained on the full development set.\n",
      "The scores are computed on the full evaluation set.\n",
      "\n",
      "              precision    recall  f1-score   support\n",
      "\n",
      "           H       0.78      0.80      0.79       704\n",
      "          NH       0.82      0.80      0.81       816\n",
      "\n",
      "    accuracy                           0.80      1520\n",
      "   macro avg       0.80      0.80      0.80      1520\n",
      "weighted avg       0.80      0.80      0.80      1520\n",
      "\n",
      "\n",
      "# Tuning hyper-parameters for accuracy\n",
      "\n",
      "Best parameters set found on development set:\n",
      "\n",
      "{'activation': 'tanh', 'alpha': 0.001, 'hidden_layer_sizes': (12, 12), 'learning_rate': 'invscaling', 'learning_rate_init': 0.001, 'max_iter': 1000, 'solver': 'adam'}\n",
      "\n",
      "Detailed classification report:\n",
      "\n",
      "The model is trained on the full development set.\n",
      "The scores are computed on the full evaluation set.\n",
      "\n",
      "              precision    recall  f1-score   support\n",
      "\n",
      "           H       0.76      0.80      0.78       704\n",
      "          NH       0.82      0.79      0.80       816\n",
      "\n",
      "    accuracy                           0.79      1520\n",
      "   macro avg       0.79      0.79      0.79      1520\n",
      "weighted avg       0.79      0.79      0.79      1520\n",
      "\n",
      "\n",
      "# Tuning hyper-parameters for accuracy\n",
      "\n"
     ]
    },
    {
     "name": "stderr",
     "output_type": "stream",
     "text": [
      "/home/ruifmf/anaconda3/lib/python3.8/site-packages/xgboost/sklearn.py:1146: UserWarning: The use of label encoder in XGBClassifier is deprecated and will be removed in a future release. To remove this warning, do the following: 1) Pass option use_label_encoder=False when constructing XGBClassifier object; and 2) Encode your labels (y) as integers starting with 0, i.e. 0, 1, 2, ..., [num_class - 1].\n",
      "  warnings.warn(label_encoder_deprecation_msg, UserWarning)\n",
      "/home/ruifmf/anaconda3/lib/python3.8/site-packages/xgboost/data.py:112: UserWarning: Use subset (sliced data) of np.ndarray is not recommended because it will generate extra copies and increase memory consumption\n",
      "  warnings.warn(\n"
     ]
    },
    {
     "name": "stdout",
     "output_type": "stream",
     "text": [
      "Best parameters set found on development set:\n",
      "\n",
      "{'colsample_bytree': 0.8, 'eval_metric': 'mae', 'gamma': 0.5, 'max_depth': 4, 'min_child_weight': 3, 'n_estimators': 50, 'objective': 'binary:logistic', 'subsample': 0.6}\n",
      "\n",
      "Detailed classification report:\n",
      "\n",
      "The model is trained on the full development set.\n",
      "The scores are computed on the full evaluation set.\n",
      "\n",
      "              precision    recall  f1-score   support\n",
      "\n",
      "           H       0.73      0.71      0.72       704\n",
      "          NH       0.76      0.77      0.77       816\n",
      "\n",
      "    accuracy                           0.75      1520\n",
      "   macro avg       0.74      0.74      0.74      1520\n",
      "weighted avg       0.75      0.75      0.75      1520\n",
      "\n",
      "\n"
     ]
    }
   ],
   "source": [
    "def parameter_tuning(X_train, X_test, y_train, y_test, model, tuned_parameters, include_grid=False):\n",
    "    \n",
    "    scores = ['accuracy']\n",
    "    \n",
    "    best_parameters = []\n",
    "\n",
    "    for score in scores:\n",
    "        print(\"# Tuning hyper-parameters for %s\" % score)\n",
    "        print()\n",
    "\n",
    "        clf = GridSearchCV(\n",
    "            model, tuned_parameters, scoring=score\n",
    "        )\n",
    "        clf.fit(X_train, y_train)\n",
    "\n",
    "        print(\"Best parameters set found on development set:\")\n",
    "        print()\n",
    "        best_parameters.append(clf.best_params_)\n",
    "        print(clf.best_params_)\n",
    "        print()\n",
    "        if include_grid:\n",
    "            print(\"Grid scores on development set:\")\n",
    "            print()\n",
    "            means = clf.cv_results_['mean_test_score']\n",
    "            stds = clf.cv_results_['std_test_score']\n",
    "            for mean, std, params in zip(means, stds, clf.cv_results_['params']):\n",
    "                print(\"%0.3f (+/-%0.03f) for %r\"\n",
    "                      % (mean, std * 2, params))\n",
    "            print()\n",
    "\n",
    "        print(\"Detailed classification report:\")\n",
    "        print()\n",
    "        print(\"The model is trained on the full development set.\")\n",
    "        print(\"The scores are computed on the full evaluation set.\")\n",
    "        print()\n",
    "        y_true, y_pred = y_test, clf.predict(X_test)\n",
    "        print(classification_report(y_true, y_pred))\n",
    "        print()\n",
    "        \n",
    "    return best_parameters\n",
    "\n",
    "\n",
    "tuned_log_parameters = [{'solver': ['lbfgs'], 'max_iter': [200, 500],\n",
    "                         'C': [1, 10, 100, 1000], 'class_weight': ['balanced'],\n",
    "                         'penalty': ['l2']},\n",
    "                    {'solver': ['liblinear'], 'max_iter': [200, 500],\n",
    "                         'C': [1, 10, 100, 1000], 'class_weight': ['balanced'],\n",
    "                         'penalty': ['l1', 'l2']}]\n",
    "\n",
    "tuned_nn_parameters = [{'solver': ['adam'], 'max_iter': [1000],\n",
    "                     'hidden_layer_sizes': [(12,12), (12,12,12)], 'activation': ['tanh', 'relu'],\n",
    "                     'alpha': [1e-3,1e-4], 'learning_rate': ['constant', 'invscaling'], \n",
    "                     'learning_rate_init': [0.001, 0.01]}]\n",
    "\n",
    "tuned_svm_parameters = [{'C': [1, 3, 10, 30, 100, 1000], \n",
    "              'gamma': [0.001, 0.003, 0.01, 0.03, 0.1, 0.3, 1],\n",
    "              'kernel': ['rbf']}]\n",
    "\n",
    "tuned_xgb_parameters = [{\n",
    "        'min_child_weight': [1, 3],\n",
    "        'gamma': [0.3, 0.5],\n",
    "        'subsample': [0.6, 0.8],\n",
    "        'colsample_bytree': [0.6, 0.8],\n",
    "        'max_depth': [4, 5],\n",
    "        'n_estimators': [50],\n",
    "        'objective': ['binary:logistic'],\n",
    "        'eval_metric': ['mae']\n",
    "        }]\n",
    "\n",
    "best_log_parameters = parameter_tuning(X_train, X_test, y_train, y_test, LogisticRegression(), tuned_log_parameters)\n",
    "best_svm_parameters = parameter_tuning(X_train, X_test, y_train, y_test, SVC(), tuned_svm_parameters)\n",
    "best_nn_parameters = parameter_tuning(X_train, X_test, y_train, y_test, MLPClassifier(), tuned_nn_parameters)\n",
    "best_xgb_parameters = parameter_tuning(X_train, X_test, y_train, y_test, xgb.XGBClassifier(), tuned_xgb_parameters)\n"
   ]
  },
  {
   "cell_type": "code",
   "execution_count": 18,
   "metadata": {},
   "outputs": [
    {
     "name": "stdout",
     "output_type": "stream",
     "text": [
      "Logistic Regression with optimal parameters\n",
      "F1 score and accuracy score for training set: 0.7839 , 0.7838.\n",
      "F1 score and accuracy score for test set: 0.7812 , 0.7809.\n",
      "SVM with optimal parameters\n",
      "F1 score and accuracy score for training set: 0.8321 , 0.8322.\n",
      "F1 score and accuracy score for test set: 0.8008 , 0.8007.\n",
      "Neural Network with optimal parameters\n",
      "F1 score and accuracy score for training set: 0.8119 , 0.8121.\n",
      "F1 score and accuracy score for test set: 0.7943 , 0.7941.\n",
      "XGBoost with optimal parameters\n",
      "F1 score and accuracy score for training set: 0.8230 , 0.8232.\n",
      "F1 score and accuracy score for test set: 0.7458 , 0.7461.\n"
     ]
    },
    {
     "name": "stderr",
     "output_type": "stream",
     "text": [
      "/home/ruifmf/anaconda3/lib/python3.8/site-packages/xgboost/sklearn.py:1146: UserWarning: The use of label encoder in XGBClassifier is deprecated and will be removed in a future release. To remove this warning, do the following: 1) Pass option use_label_encoder=False when constructing XGBClassifier object; and 2) Encode your labels (y) as integers starting with 0, i.e. 0, 1, 2, ..., [num_class - 1].\n",
      "  warnings.warn(label_encoder_deprecation_msg, UserWarning)\n",
      "/home/ruifmf/anaconda3/lib/python3.8/site-packages/xgboost/data.py:112: UserWarning: Use subset (sliced data) of np.ndarray is not recommended because it will generate extra copies and increase memory consumption\n",
      "  warnings.warn(\n"
     ]
    }
   ],
   "source": [
    "print(\"Logistic Regression with optimal parameters\")\n",
    "clf_log_opt = LogisticRegression()\n",
    "clf_log_opt.set_params(**best_log_parameters[0])\n",
    "y_pred_test = basic_train_and_test(clf_log_opt, X_train, X_test, y_train, y_test)\n",
    "\n",
    "print(\"SVM with optimal parameters\")\n",
    "clf_svm_opt = SVC()\n",
    "clf_svm_opt.set_params(**best_svm_parameters[0])\n",
    "y_pred_test = basic_train_and_test(clf_svm_opt, X_train, X_test, y_train, y_test)\n",
    "\n",
    "print(\"Neural Network with optimal parameters\")\n",
    "clf_nn_opt = MLPClassifier()\n",
    "clf_nn_opt.set_params(**best_nn_parameters[0])\n",
    "y_pred_test = basic_train_and_test(clf_nn_opt, X_train, X_test, y_train, y_test)\n",
    "\n",
    "print(\"XGBoost with optimal parameters\")\n",
    "clf_xgb_opt = xgb.XGBClassifier()\n",
    "clf_xgb_opt.set_params(**best_xgb_parameters[0])\n",
    "y_pred_test = basic_train_and_test(clf_xgb_opt, X_train, X_test, y_train, y_test)"
   ]
  },
  {
   "cell_type": "markdown",
   "metadata": {},
   "source": [
    "# K-Fold CV"
   ]
  },
  {
   "cell_type": "code",
   "execution_count": 19,
   "metadata": {},
   "outputs": [],
   "source": [
    "def kfold_test(X_train, y_train, X_test, y_test, clf, k):\n",
    "    kf = KFold(n_splits=k, shuffle=True)\n",
    "    \n",
    "    scores = cross_validate(clf, X_train, y_train, scoring='accuracy', cv=k, return_estimator=True)\n",
    "\n",
    "    avg_acc_score = sum(scores['test_score'])/k\n",
    "\n",
    "    print('Accuracy of each fold - {}'.format(scores['test_score']))\n",
    "    print('Avg accuracy : {}'.format(avg_acc_score))\n",
    "    \n",
    "    best_estimator = scores['estimator'][np.argmax(scores['test_score'])]\n",
    "\n",
    "    y_pred_test = best_estimator.predict(X_test)\n",
    "    acc_test = sum(y_test == y_pred_test) / float(len(y_pred_test))\n",
    "    f1_test = f1_score(y_test, y_pred_test, average='weighted')\n",
    "\n",
    "    print(\"Using the best estimator from CV:\")\n",
    "    print(\"F1 score and accuracy score for test set: {:.4f} , {:.4f}.\".format(f1_test , acc_test))\n",
    "    \n",
    "    return y_pred_test\n"
   ]
  },
  {
   "cell_type": "markdown",
   "metadata": {},
   "source": [
    "## Optimal Logistic Regression with K-Fold CV"
   ]
  },
  {
   "cell_type": "code",
   "execution_count": 20,
   "metadata": {
    "scrolled": false
   },
   "outputs": [
    {
     "name": "stdout",
     "output_type": "stream",
     "text": [
      "Accuracy of each fold - [0.78508772 0.78245614 0.79210526 0.77017544]\n",
      "Avg accuracy : 0.7824561403508772\n",
      "Using the best estimator from CV:\n",
      "F1 score and accuracy score for test set: 0.7832 , 0.7829.\n"
     ]
    },
    {
     "data": {
      "image/png": "[encoded data removed]",
      "text/plain": [
       "<Figure size 432x288 with 2 Axes>"
      ]
     },
     "metadata": {
      "needs_background": "light"
     },
     "output_type": "display_data"
    }
   ],
   "source": [
    "# Logistic Regression\n",
    "y_pred_test = kfold_test(X_train, y_train, X_test, y_test, clf_log_opt, 4)\n",
    "cm = get_confusion_matrix(clf_log_opt, y_pred_test, y_test)\n",
    "display_cm(clf_log_opt, cm)"
   ]
  },
  {
   "cell_type": "markdown",
   "metadata": {},
   "source": [
    "## Optimal SVM with K-Fold CV"
   ]
  },
  {
   "cell_type": "code",
   "execution_count": 21,
   "metadata": {
    "scrolled": false
   },
   "outputs": [
    {
     "name": "stdout",
     "output_type": "stream",
     "text": [
      "Accuracy of each fold - [0.80263158 0.79035088 0.80350877 0.79736842]\n",
      "Avg accuracy : 0.7984649122807017\n",
      "Using the best estimator from CV:\n",
      "F1 score and accuracy score for test set: 0.8015 , 0.8013.\n"
     ]
    },
    {
     "data": {
      "image/png": "[encoded data removed]",
      "text/plain": [
       "<Figure size 432x288 with 2 Axes>"
      ]
     },
     "metadata": {
      "needs_background": "light"
     },
     "output_type": "display_data"
    }
   ],
   "source": [
    "# SVM\n",
    "y_pred_test = kfold_test(X_train, y_train, X_test, y_test, clf_svm_opt, 4)\n",
    "cm = get_confusion_matrix(clf_svm_opt, y_pred_test, y_test)\n",
    "display_cm(clf_svm_opt, cm)"
   ]
  },
  {
   "cell_type": "markdown",
   "metadata": {},
   "source": [
    "## Optimal Neural Network with K-Fold CV"
   ]
  },
  {
   "cell_type": "code",
   "execution_count": 22,
   "metadata": {
    "scrolled": false
   },
   "outputs": [
    {
     "name": "stdout",
     "output_type": "stream",
     "text": [
      "Accuracy of each fold - [0.79649123 0.78859649 0.79649123 0.7877193 ]\n",
      "Avg accuracy : 0.7923245614035088\n",
      "Using the best estimator from CV:\n",
      "F1 score and accuracy score for test set: 0.7950 , 0.7947.\n"
     ]
    },
    {
     "data": {
      "image/png": "[encoded data removed]",
      "text/plain": [
       "<Figure size 432x288 with 2 Axes>"
      ]
     },
     "metadata": {
      "needs_background": "light"
     },
     "output_type": "display_data"
    }
   ],
   "source": [
    "# NN\n",
    "y_pred_test = kfold_test(X_train, y_train, X_test, y_test, clf_nn_opt, 4)\n",
    "cm = get_confusion_matrix(clf_nn_opt, y_pred_test, y_test)\n",
    "display_cm(clf_nn_opt, cm)"
   ]
  },
  {
   "cell_type": "markdown",
   "metadata": {},
   "source": [
    "## Optimal XGBoost with K-Fold CV"
   ]
  },
  {
   "cell_type": "code",
   "execution_count": 23,
   "metadata": {
    "scrolled": false
   },
   "outputs": [
    {
     "name": "stderr",
     "output_type": "stream",
     "text": [
      "/home/ruifmf/anaconda3/lib/python3.8/site-packages/xgboost/sklearn.py:1146: UserWarning: The use of label encoder in XGBClassifier is deprecated and will be removed in a future release. To remove this warning, do the following: 1) Pass option use_label_encoder=False when constructing XGBClassifier object; and 2) Encode your labels (y) as integers starting with 0, i.e. 0, 1, 2, ..., [num_class - 1].\n",
      "  warnings.warn(label_encoder_deprecation_msg, UserWarning)\n",
      "/home/ruifmf/anaconda3/lib/python3.8/site-packages/xgboost/data.py:112: UserWarning: Use subset (sliced data) of np.ndarray is not recommended because it will generate extra copies and increase memory consumption\n",
      "  warnings.warn(\n"
     ]
    },
    {
     "name": "stdout",
     "output_type": "stream",
     "text": [
      "Accuracy of each fold - [0.71140351 0.7245614  0.71754386 0.7377193 ]\n",
      "Avg accuracy : 0.7228070175438597\n",
      "Using the best estimator from CV:\n",
      "F1 score and accuracy score for test set: 0.7482 , 0.7480.\n"
     ]
    },
    {
     "data": {
      "image/png": "[encoded data removed]",
      "text/plain": [
       "<Figure size 432x288 with 2 Axes>"
      ]
     },
     "metadata": {
      "needs_background": "light"
     },
     "output_type": "display_data"
    }
   ],
   "source": [
    "# XGBoost\n",
    "y_pred_test = kfold_test(X_train, y_train, X_test, y_test, clf_xgb_opt, 4)\n",
    "cm = get_confusion_matrix(clf_xgb_opt, y_pred_test, y_test)\n",
    "display_cm(clf_xgb_opt, cm)\n",
    "#extreme overfitting"
   ]
  },
  {
   "cell_type": "markdown",
   "metadata": {},
   "source": [
    "# Ensemble Voting"
   ]
  },
  {
   "cell_type": "code",
   "execution_count": 24,
   "metadata": {},
   "outputs": [
    {
     "name": "stdout",
     "output_type": "stream",
     "text": [
      "Accuracy of each fold - [0.79736842 0.79385965 0.80789474 0.78157895]\n",
      "Avg accuracy : 0.7951754385964912\n",
      "Using the best estimator from CV:\n",
      "F1 score and accuracy score for test set: 0.7976 , 0.7974.\n"
     ]
    },
    {
     "data": {
      "image/png": "[encoded data removed]",
      "text/plain": [
       "<Figure size 432x288 with 2 Axes>"
      ]
     },
     "metadata": {
      "needs_background": "light"
     },
     "output_type": "display_data"
    }
   ],
   "source": [
    "#Using voting method, droped the xgboost model because it was clearly lacking\n",
    "\n",
    "eclf = VotingClassifier(estimators=[('mlp',clf_nn_opt), ('lr',clf_log_opt), ('svm', clf_svm_opt)], voting='hard')\n",
    "\n",
    "y_pred_test = kfold_test(X_train, y_train, X_test, y_test, eclf, 4)\n",
    "cm = get_confusion_matrix(clf_log, y_pred_test, y_test)\n",
    "display_cm(clf_log, cm)"
   ]
  },
  {
   "cell_type": "markdown",
   "metadata": {},
   "source": [
    "## With 3 of each model"
   ]
  },
  {
   "cell_type": "code",
   "execution_count": 25,
   "metadata": {},
   "outputs": [
    {
     "name": "stdout",
     "output_type": "stream",
     "text": [
      "Accuracy of each fold - [0.79473684 0.79385965 0.81052632 0.77807018]\n",
      "Avg accuracy : 0.7942982456140351\n",
      "Using the best estimator from CV:\n",
      "F1 score and accuracy score for test set: 0.7943 , 0.7941.\n"
     ]
    },
    {
     "data": {
      "image/png": "[encoded data removed]",
      "text/plain": [
       "<Figure size 432x288 with 2 Axes>"
      ]
     },
     "metadata": {
      "needs_background": "light"
     },
     "output_type": "display_data"
    }
   ],
   "source": [
    "def gen_models():\n",
    "    models = []\n",
    "    for i in range(3):\n",
    "        clf_nn_opt = MLPClassifier()\n",
    "        clf_nn_opt.set_params(**best_nn_parameters[0])\n",
    "        models.append(('mlp'+str(i), clf_nn_opt))\n",
    "\n",
    "        clf_svm_opt = SVC()\n",
    "        clf_svm_opt.set_params(**best_svm_parameters[0])\n",
    "        models.append(('svm'+str(i), clf_svm_opt))\n",
    "\n",
    "        clf_log_opt = LogisticRegression()\n",
    "        clf_log_opt.set_params(**best_log_parameters[0])\n",
    "        models.append(('lr'+str(i), clf_log_opt))\n",
    "\n",
    "    return models\n",
    "\n",
    "eclf_9model = VotingClassifier(estimators=gen_models(), voting='hard')\n",
    "\n",
    "y_pred_test = kfold_test(X_train, y_train, X_test, y_test, eclf_9model, 4)\n",
    "cm = get_confusion_matrix(clf_log, y_pred_test, y_test)\n",
    "display_cm(clf_log, cm)"
   ]
  },
  {
   "cell_type": "markdown",
   "metadata": {},
   "source": [
    "# Accuracy per class of final model"
   ]
  },
  {
   "cell_type": "code",
   "execution_count": 29,
   "metadata": {},
   "outputs": [
    {
     "data": {
      "image/png": "[encoded data removed]",
      "text/plain": [
       "<Figure size 522x432 with 1 Axes>"
      ]
     },
     "metadata": {
      "needs_background": "light"
     },
     "output_type": "display_data"
    }
   ],
   "source": [
    "def class_acc(y_pred_test, X_train, X_test, y_train, y_test):\n",
    "    cm = confusion_matrix(y_test, y_pred_test)\n",
    "    cm = cm.astype('float') / cm.sum(axis=1)[:, np.newaxis]\n",
    "    \n",
    "    plt.figure(figsize = (7.25,6))\n",
    "    plt.bar(['NH','H'], [cm[i][i] for i in range(2)], color=\"#e33641\")\n",
    "    plt.xlabel('Class',fontsize=12)\n",
    "    plt.ylabel('Accuracy of guess (%)')\n",
    "    plt.title('Accuracy of model per class',fontsize=15)\n",
    "    plt.show()\n",
    "\n",
    "class_acc(y_pred_test, X_train, X_test, y_train, y_test)"
   ]
  },
  {
   "cell_type": "code",
   "execution_count": null,
   "metadata": {},
   "outputs": [],
   "source": []
  }
 ],
 "metadata": {
  "kernelspec": {
   "display_name": "Python 3",
   "language": "python",
   "name": "python3"
  },
  "language_info": {
   "codemirror_mode": {
    "name": "ipython",
    "version": 3
   },
   "file_extension": ".py",
   "mimetype": "text/x-python",
   "name": "python",
   "nbconvert_exporter": "python",
   "pygments_lexer": "ipython3",
   "version": "3.8.5"
  }
 },
 "nbformat": 4,
 "nbformat_minor": 4
}
